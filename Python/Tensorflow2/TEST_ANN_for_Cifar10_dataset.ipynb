{
  "nbformat": 4,
  "nbformat_minor": 0,
  "metadata": {
    "colab": {
      "name": "ANN for Cifar10 dataset.ipynb",
      "provenance": [],
      "toc_visible": true
    },
    "kernelspec": {
      "name": "python3",
      "display_name": "Python 3"
    }
  },
  "cells": [
    {
      "cell_type": "markdown",
      "metadata": {
        "id": "k9OKzcnAb6Ld"
      },
      "source": [
        "# Result: Pretty bad. 0.3462 accuracy\r\n",
        "\r\n",
        "```\r\n",
        "# This is formatted as code\r\n",
        "```\r\n",
        "\r\n"
      ]
    },
    {
      "cell_type": "code",
      "metadata": {
        "id": "w79cYRR9T4uP"
      },
      "source": [
        "import tensorflow as tf\r\n",
        "from tensorflow.keras.datasets import cifar10"
      ],
      "execution_count": 34,
      "outputs": []
    },
    {
      "cell_type": "code",
      "metadata": {
        "id": "rak4Ym59UJdy"
      },
      "source": [
        "#Loading the dataset\r\n",
        "(X_train, y_train), (X_test, y_test) = cifar10.load_data()"
      ],
      "execution_count": 35,
      "outputs": []
    },
    {
      "cell_type": "code",
      "metadata": {
        "colab": {
          "base_uri": "https://localhost:8080/"
        },
        "id": "6jA-h8CvUXur",
        "outputId": "2a89a3fc-a89b-4414-bc97-ff80d64d167e"
      },
      "source": [
        "X_train = X_train / 255.0\r\n",
        "X_test = X_test / 255.0\r\n",
        "X_train.shape\r\n",
        "X_test.shape\r\n"
      ],
      "execution_count": 36,
      "outputs": [
        {
          "output_type": "execute_result",
          "data": {
            "text/plain": [
              "(10000, 32, 32, 3)"
            ]
          },
          "metadata": {
            "tags": []
          },
          "execution_count": 36
        }
      ]
    },
    {
      "cell_type": "code",
      "metadata": {
        "id": "hzP3qKeRYjZr"
      },
      "source": [
        "num_of_elements, width, height, bytes_per_pixel = X_train.shape\r\n",
        "X_train = X_train.reshape(-1, width*height*bytes_per_pixel)\r\n",
        "X_test = X_test.reshape(-1, width*height*bytes_per_pixel) \r\n"
      ],
      "execution_count": 37,
      "outputs": []
    },
    {
      "cell_type": "code",
      "metadata": {
        "colab": {
          "base_uri": "https://localhost:8080/"
        },
        "id": "dioWYOr9ZKUV",
        "outputId": "340d3557-09db-484c-8c36-06f86bdda3d2"
      },
      "source": [
        "X_train.shape"
      ],
      "execution_count": 38,
      "outputs": [
        {
          "output_type": "execute_result",
          "data": {
            "text/plain": [
              "(50000, 3072)"
            ]
          },
          "metadata": {
            "tags": []
          },
          "execution_count": 38
        }
      ]
    },
    {
      "cell_type": "code",
      "metadata": {
        "id": "xmfogzmn9kqv"
      },
      "source": [
        "model = tf.keras.models.Sequential()"
      ],
      "execution_count": 39,
      "outputs": []
    },
    {
      "cell_type": "code",
      "metadata": {
        "id": "GBsfDyGE-FX5"
      },
      "source": [
        "model.add(tf.keras.layers.Dense(units=128, activation='relu', input_shape=(width*height*bytes_per_pixel, )))"
      ],
      "execution_count": 40,
      "outputs": []
    },
    {
      "cell_type": "code",
      "metadata": {
        "id": "tAmpLPlr-pOX"
      },
      "source": [
        "model.add(tf.keras.layers.Dropout(0.2))"
      ],
      "execution_count": 41,
      "outputs": []
    },
    {
      "cell_type": "code",
      "metadata": {
        "id": "OmkUuF9Y-3mG"
      },
      "source": [
        "model.add(tf.keras.layers.Dense(units=10, activation='softmax'))"
      ],
      "execution_count": 42,
      "outputs": []
    },
    {
      "cell_type": "code",
      "metadata": {
        "id": "nbW3xeRK_CrN",
        "colab": {
          "base_uri": "https://localhost:8080/"
        },
        "outputId": "b3dd1e90-3c49-426a-88ca-bb7944c365d9"
      },
      "source": [
        "model.compile(optimizer='adam', loss='sparse_categorical_crossentropy', metrics=['sparse_categorical_accuracy'])\r\n",
        "\r\n",
        "model.summary()"
      ],
      "execution_count": 43,
      "outputs": [
        {
          "output_type": "stream",
          "text": [
            "Model: \"sequential_1\"\n",
            "_________________________________________________________________\n",
            "Layer (type)                 Output Shape              Param #   \n",
            "=================================================================\n",
            "dense_2 (Dense)              (None, 128)               393344    \n",
            "_________________________________________________________________\n",
            "dropout_1 (Dropout)          (None, 128)               0         \n",
            "_________________________________________________________________\n",
            "dense_3 (Dense)              (None, 10)                1290      \n",
            "=================================================================\n",
            "Total params: 394,634\n",
            "Trainable params: 394,634\n",
            "Non-trainable params: 0\n",
            "_________________________________________________________________\n"
          ],
          "name": "stdout"
        }
      ]
    },
    {
      "cell_type": "code",
      "metadata": {
        "id": "s-_oLiE0_3A2",
        "colab": {
          "base_uri": "https://localhost:8080/"
        },
        "outputId": "84ad2649-3de3-4c3c-f209-1716e80c29cb"
      },
      "source": [
        "model.fit(X_train, y_train, epochs=5)"
      ],
      "execution_count": 44,
      "outputs": [
        {
          "output_type": "stream",
          "text": [
            "Epoch 1/5\n",
            "1563/1563 [==============================] - 6s 4ms/step - loss: 2.1260 - sparse_categorical_accuracy: 0.2071\n",
            "Epoch 2/5\n",
            "1563/1563 [==============================] - 6s 4ms/step - loss: 1.9261 - sparse_categorical_accuracy: 0.2837\n",
            "Epoch 3/5\n",
            "1563/1563 [==============================] - 6s 4ms/step - loss: 1.9092 - sparse_categorical_accuracy: 0.2937\n",
            "Epoch 4/5\n",
            "1563/1563 [==============================] - 6s 4ms/step - loss: 1.8933 - sparse_categorical_accuracy: 0.2979\n",
            "Epoch 5/5\n",
            "1563/1563 [==============================] - 6s 4ms/step - loss: 1.8803 - sparse_categorical_accuracy: 0.3054\n"
          ],
          "name": "stdout"
        },
        {
          "output_type": "execute_result",
          "data": {
            "text/plain": [
              "<tensorflow.python.keras.callbacks.History at 0x7f253061b7f0>"
            ]
          },
          "metadata": {
            "tags": []
          },
          "execution_count": 44
        }
      ]
    },
    {
      "cell_type": "code",
      "metadata": {
        "id": "-nQCioOmAL7i",
        "colab": {
          "base_uri": "https://localhost:8080/"
        },
        "outputId": "3917a920-676f-4c8a-9b0e-d3c2e2430b8c"
      },
      "source": [
        "test_loss, test_accuracy = model.evaluate(X_test, y_test)"
      ],
      "execution_count": 45,
      "outputs": [
        {
          "output_type": "stream",
          "text": [
            "313/313 [==============================] - 1s 2ms/step - loss: 1.8016 - sparse_categorical_accuracy: 0.3462\n"
          ],
          "name": "stdout"
        }
      ]
    },
    {
      "cell_type": "markdown",
      "metadata": {
        "id": "Noi53-uq9yhl"
      },
      "source": [
        "## Stage 5 : Saving the model"
      ]
    },
    {
      "cell_type": "code",
      "metadata": {
        "id": "BGq83FKabMxj"
      },
      "source": [
        "model_json = model.to_json()\r\n",
        "with open(\"ANN_with_Cifar10.json\", \"w\") as json_file:\r\n",
        "  json_file.write(model_json)"
      ],
      "execution_count": 47,
      "outputs": []
    },
    {
      "cell_type": "code",
      "metadata": {
        "id": "Y3p5oxDobb16"
      },
      "source": [
        "model.save_weights(\"ANN_with_Cifar10.json\")"
      ],
      "execution_count": 48,
      "outputs": []
    }
  ]
}